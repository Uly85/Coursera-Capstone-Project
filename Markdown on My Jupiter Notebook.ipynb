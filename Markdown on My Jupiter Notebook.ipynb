{
    "nbformat_minor": 1, 
    "cells": [
        {
            "source": "# My Jupyter Notebook on IBM Data Science Experience", 
            "cell_type": "markdown", 
            "metadata": {
                "collapsed": true
            }
        }, 
        {
            "source": "**Romauli Butarbutar**\n\nIT System Development to be Data Scientist", 
            "cell_type": "markdown", 
            "metadata": {}
        }, 
        {
            "source": "*I am interested in data science because I can find new knowledges based on data.*\n\n*Furthermore, analytical thingking is my greatest strength.*", 
            "cell_type": "markdown", 
            "metadata": {}
        }, 
        {
            "source": "### In cell 5 I would like to do some code of mathematics functions like a+b, the result would be put in a variable called c", 
            "cell_type": "markdown", 
            "metadata": {}
        }, 
        {
            "execution_count": 13, 
            "cell_type": "code", 
            "metadata": {}, 
            "outputs": [
                {
                    "execution_count": 13, 
                    "metadata": {}, 
                    "data": {
                        "text/plain": "15"
                    }, 
                    "output_type": "execute_result"
                }
            ], 
            "source": "a=5\nb=10\nc = a+b\nc"
        }, 
        {
            "source": "<dl>\n  <dt>This is  Definition list</dt>\n  <dd>Markdown in Jupiter Notebook is nice</dd>\n\n  <dt>This is using Markdown in HTML</dt>\n  <dd>May be it does *not* work **very** well. Use HTML <em>tags</em>.</dd>\n</dl>\n\n1. IBM Watson Studio\n2. Jupiter Notebooks\n\u22c5\u22c5* Markdown - Unordered sub-list. \n1. Programming Language\n\u22c5\u22c51. R Programming\n..2.Phyton \n4. And another item.\n\n\nMaking Tables in Jupiter Notebook is quite tricky, Colons can be used to align columns.\n\n| Tables Name   | Column2       | Column 3  |\n| ------------- |:-------------:| -----:|\n| First row     | right-aligned | 1     |\n| Second row    | centered      | 2     |\n| Third row     | are neat      | 3     |\n\n\nChek this out guys : YouTube Videos\n\n<a href=\"https://www.youtube.com/watch?v=cT2F-KBIUt8&list=RDXiDVfGqxi9U&index=5\n\" target=\"_blank\"><img src=\"https://f4.bcbits.com/img/a0867687403_16.jpg\" \nalt=\"IMAGE ALT TEXT HERE\" width=\"240\" height=\"180\" border=\"10\" /></a>\n\n\nExample of Horizontal Line\n\n---\n\nThis is Hyphens\n\n***\n\nThi is Asterisks\n\n___\n\nThe end is Underscores\n", 
            "cell_type": "markdown", 
            "metadata": {}
        }, 
        {
            "source": "", 
            "cell_type": "markdown", 
            "metadata": {}
        }, 
        {
            "execution_count": null, 
            "cell_type": "code", 
            "metadata": {}, 
            "outputs": [], 
            "source": ""
        }
    ], 
    "metadata": {
        "kernelspec": {
            "display_name": "Python 3.5", 
            "name": "python3", 
            "language": "python"
        }, 
        "language_info": {
            "mimetype": "text/x-python", 
            "nbconvert_exporter": "python", 
            "version": "3.5.5", 
            "name": "python", 
            "file_extension": ".py", 
            "pygments_lexer": "ipython3", 
            "codemirror_mode": {
                "version": 3, 
                "name": "ipython"
            }
        }
    }, 
    "nbformat": 4
}